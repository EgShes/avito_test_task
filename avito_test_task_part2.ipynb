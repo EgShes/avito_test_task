{
 "cells": [
  {
   "cell_type": "code",
   "execution_count": 1,
   "metadata": {},
   "outputs": [],
   "source": [
    "import torch\n",
    "import pandas as pd\n",
    "import numpy as np\n",
    "\n",
    "from fastai.text.data import TextLMDataBunch, TextClasDataBunch, load_data, DatasetType\n",
    "from fastai.text import language_model_learner, AWD_LSTM, text_classifier_learner\n",
    "from fastai.callbacks import SaveModelCallback\n",
    "\n",
    "from sklearn.model_selection import train_test_split\n",
    "from os.path import join, isfile\n",
    "import re\n",
    "\n",
    "torch.cuda.set_device(1)"
   ]
  },
  {
   "cell_type": "markdown",
   "metadata": {},
   "source": [
    "Data exploration was done in notebook avito_test_task_part1."
   ]
  },
  {
   "cell_type": "code",
   "execution_count": 2,
   "metadata": {},
   "outputs": [],
   "source": [
    "data_path = '/home/egor/DL/AvitoTestTask/data/'\n",
    "result_path = '/home/egor/DL/AvitoTestTask/results'\n",
    "models_path = '/home/egor/DL/AvitoTestTask/models_data'"
   ]
  },
  {
   "cell_type": "code",
   "execution_count": 3,
   "metadata": {},
   "outputs": [],
   "source": [
    "train_df = pd.read_csv(join(data_path, 'train.csv'))\n",
    "test_df = pd.read_csv(join(data_path, 'test.csv'))\n",
    "categ_df = pd.read_csv(join(data_path, 'category.csv'))"
   ]
  },
  {
   "cell_type": "code",
   "execution_count": 4,
   "metadata": {},
   "outputs": [],
   "source": [
    "hierarchy_dict = {\n",
    "    'Бытовая_электроника': list(range(15)),\n",
    "    'Для дома и дачи': list(range(15, 30)),\n",
    "    'Личные вещи': list(range(30, 42)),\n",
    "    'Хобби и отдых': list(range(42, 54)),\n",
    "}"
   ]
  },
  {
   "cell_type": "markdown",
   "metadata": {},
   "source": [
    "In this notebook I will use fastai implementation of ULMFiT to make classifier."
   ]
  },
  {
   "cell_type": "markdown",
   "metadata": {},
   "source": [
    "## Test functions"
   ]
  },
  {
   "cell_type": "code",
   "execution_count": 5,
   "metadata": {},
   "outputs": [],
   "source": [
    "# function to get average accuracy\n",
    "def get_accuracy(y_pred, y):\n",
    "    true = np.sum(np.float32(y_pred == y))\n",
    "    return true / len(y)\n",
    "\n",
    "# function to get accuracy per each category\n",
    "# category's ranges are in hierarchy_dict\n",
    "def get_hierarchy_accuracy(y_pred, y, hierarchy_dict):\n",
    "    acc_dict = {}\n",
    "    for categ, range_ in hierarchy_dict.items():\n",
    "        # find indeces where class is from current category\n",
    "        indices = np.where(np.isin(y, range_) == True)[0]\n",
    "        categ_true = np.sum(np.float32(y_pred[indices] == y[indices]))\n",
    "        acc_dict[categ] = categ_true / len(indices)\n",
    "    return acc_dict"
   ]
  },
  {
   "cell_type": "markdown",
   "metadata": {},
   "source": [
    "# Data preparation"
   ]
  },
  {
   "cell_type": "markdown",
   "metadata": {},
   "source": [
    "Fine-tuning of ULMFiT has two stages: fine-tuning language model on text from task domain and teaching a classifier.\n",
    "\n",
    "For the first stage I will make csv with texts from train and test df. For the second stage train and test sets will be used separately."
   ]
  },
  {
   "cell_type": "code",
   "execution_count": 5,
   "metadata": {},
   "outputs": [
    {
     "name": "stdout",
     "output_type": "stream",
     "text": [
      "<class 'pandas.core.frame.DataFrame'>\n",
      "Int64Index: 732683 entries, 0 to 243165\n",
      "Data columns (total 4 columns):\n",
      "item_id        732683 non-null int64\n",
      "title          732683 non-null object\n",
      "description    732683 non-null object\n",
      "price          732683 non-null float64\n",
      "dtypes: float64(1), int64(1), object(2)\n",
      "memory usage: 27.9+ MB\n"
     ]
    }
   ],
   "source": [
    "lm_csv = pd.concat([train_df.drop(columns=['category_id']), test_df], axis=0)\n",
    "lm_csv.info()"
   ]
  },
  {
   "cell_type": "markdown",
   "metadata": {},
   "source": [
    "Concatenate title, description and price with special tokens between them (to give model additional information). Price is encoded with # as I suppose that price order matters more than exact number (e.g. 12000 -> price#####)."
   ]
  },
  {
   "cell_type": "code",
   "execution_count": 6,
   "metadata": {},
   "outputs": [],
   "source": [
    "def prepare_text(title, description, price):\n",
    "    enc_price = re.sub('\\d', '#', str(int(price)))\n",
    "    proc_text = 'xxtitle {} xxdescr {} xxprice {}'.format(title, description, enc_price)\n",
    "    return proc_text"
   ]
  },
  {
   "cell_type": "code",
   "execution_count": 28,
   "metadata": {},
   "outputs": [
    {
     "data": {
      "text/html": [
       "<div>\n",
       "<style scoped>\n",
       "    .dataframe tbody tr th:only-of-type {\n",
       "        vertical-align: middle;\n",
       "    }\n",
       "\n",
       "    .dataframe tbody tr th {\n",
       "        vertical-align: top;\n",
       "    }\n",
       "\n",
       "    .dataframe thead th {\n",
       "        text-align: right;\n",
       "    }\n",
       "</style>\n",
       "<table border=\"1\" class=\"dataframe\">\n",
       "  <thead>\n",
       "    <tr style=\"text-align: right;\">\n",
       "      <th></th>\n",
       "      <th>item_id</th>\n",
       "      <th>title</th>\n",
       "      <th>description</th>\n",
       "      <th>price</th>\n",
       "      <th>text</th>\n",
       "    </tr>\n",
       "  </thead>\n",
       "  <tbody>\n",
       "    <tr>\n",
       "      <th>0</th>\n",
       "      <td>0</td>\n",
       "      <td>Картина</td>\n",
       "      <td>Гобелен. Размеры 139х84см.</td>\n",
       "      <td>1000.0</td>\n",
       "      <td>xxtitle Картина xxdescr Гобелен. Размеры 139х8...</td>\n",
       "    </tr>\n",
       "    <tr>\n",
       "      <th>1</th>\n",
       "      <td>1</td>\n",
       "      <td>Стулья из прессованной кожи</td>\n",
       "      <td>Продам недорого 4 стула из светлой прессованно...</td>\n",
       "      <td>1250.0</td>\n",
       "      <td>xxtitle Стулья из прессованной кожи xxdescr Пр...</td>\n",
       "    </tr>\n",
       "    <tr>\n",
       "      <th>2</th>\n",
       "      <td>2</td>\n",
       "      <td>Домашняя мини баня</td>\n",
       "      <td>Мини баня МБ-1(мини сауна), предназначена для ...</td>\n",
       "      <td>13000.0</td>\n",
       "      <td>xxtitle Домашняя мини баня xxdescr Мини баня М...</td>\n",
       "    </tr>\n",
       "    <tr>\n",
       "      <th>3</th>\n",
       "      <td>3</td>\n",
       "      <td>Эксклюзивная коллекция книг \"Трансаэро\" + подарок</td>\n",
       "      <td>Продам эксклюзивную коллекцию книг, выпущенную...</td>\n",
       "      <td>4000.0</td>\n",
       "      <td>xxtitle Эксклюзивная коллекция книг \"Трансаэро...</td>\n",
       "    </tr>\n",
       "    <tr>\n",
       "      <th>4</th>\n",
       "      <td>4</td>\n",
       "      <td>Ноутбук aser</td>\n",
       "      <td>Продаётся ноутбук ACER e5-511C2TA. Куплен в ко...</td>\n",
       "      <td>19000.0</td>\n",
       "      <td>xxtitle Ноутбук aser xxdescr Продаётся ноутбук...</td>\n",
       "    </tr>\n",
       "  </tbody>\n",
       "</table>\n",
       "</div>"
      ],
      "text/plain": [
       "   item_id                                              title  \\\n",
       "0        0                                            Картина   \n",
       "1        1                        Стулья из прессованной кожи   \n",
       "2        2                                 Домашняя мини баня   \n",
       "3        3  Эксклюзивная коллекция книг \"Трансаэро\" + подарок   \n",
       "4        4                                       Ноутбук aser   \n",
       "\n",
       "                                         description    price  \\\n",
       "0                         Гобелен. Размеры 139х84см.   1000.0   \n",
       "1  Продам недорого 4 стула из светлой прессованно...   1250.0   \n",
       "2  Мини баня МБ-1(мини сауна), предназначена для ...  13000.0   \n",
       "3  Продам эксклюзивную коллекцию книг, выпущенную...   4000.0   \n",
       "4  Продаётся ноутбук ACER e5-511C2TA. Куплен в ко...  19000.0   \n",
       "\n",
       "                                                text  \n",
       "0  xxtitle Картина xxdescr Гобелен. Размеры 139х8...  \n",
       "1  xxtitle Стулья из прессованной кожи xxdescr Пр...  \n",
       "2  xxtitle Домашняя мини баня xxdescr Мини баня М...  \n",
       "3  xxtitle Эксклюзивная коллекция книг \"Трансаэро...  \n",
       "4  xxtitle Ноутбук aser xxdescr Продаётся ноутбук...  "
      ]
     },
     "execution_count": 28,
     "metadata": {},
     "output_type": "execute_result"
    }
   ],
   "source": [
    "lm_csv['text'] = lm_csv.apply(lambda x: prepare_text(x['title'], x['description'], x['price']), axis=1)\n",
    "lm_csv.to_csv(join(data_path, 'ulmfit_lm.csv'), columns=['text'] ,index=False)\n",
    "lm_csv.head()"
   ]
  },
  {
   "cell_type": "code",
   "execution_count": 5,
   "metadata": {},
   "outputs": [],
   "source": [
    "# load train and test data if there have already been created else create it\n",
    "train_path = join(data_path, 'ulmfit_train.csv')\n",
    "test_path = join(data_path, 'ulmfit_test.csv')\n",
    "\n",
    "if isfile(train_path) and isfile(test_path):\n",
    "    train_df = pd.read_csv(train_path)\n",
    "    test_df = pd.read_csv(test_path)\n",
    "else:\n",
    "    train_df['text'] = train_df.apply(lambda x: prepare_text(x['title'], x['description'], x['price']), axis=1)\n",
    "    test_df['text'] = test_df.apply(lambda x: prepare_text(x['title'], x['description'], x['price']), axis=1)\n",
    "    train_df.to_csv(train_path, index=False)\n",
    "    test_df.to_csv(test_path, index=False)\n",
    "    train_df = pd.read_csv(train_path)\n",
    "    test_df = pd.read_csv(test_path)"
   ]
  },
  {
   "cell_type": "markdown",
   "metadata": {},
   "source": [
    "# ULMFiT language model fine-tuning"
   ]
  },
  {
   "cell_type": "code",
   "execution_count": 6,
   "metadata": {},
   "outputs": [
    {
     "data": {
      "text/html": [
       "<table border=\"1\" class=\"dataframe\">\n",
       "  <thead>\n",
       "    <tr style=\"text-align: right;\">\n",
       "      <th>idx</th>\n",
       "      <th>text</th>\n",
       "    </tr>\n",
       "  </thead>\n",
       "  <tbody>\n",
       "    <tr>\n",
       "      <td>0</td>\n",
       "      <td>игрового компьютера - xxunk любую видеокарту и играй в удовольствие . xxmaj осмотр и покупка товара xxup тц \" xxmaj парк xxmaj xxunk \" , xxmaj xxunk xxup xxunk , 1-й этаж , напротив xxunk , компьютерный салон \" xxmaj xxunk \" xxprice xxrep 5 # xxbos xxtitle xxmaj портьеры в пол xxunk цвета xxdescr xxmaj ткань плотная , верх на широкой кулиске , сборка небольшая . xxmaj размер :</td>\n",
       "    </tr>\n",
       "    <tr>\n",
       "      <td>1</td>\n",
       "      <td>xxmaj hello xxmaj kitty окрашен в несколько оттенков розового цвета , декорирован изображениями xxmaj китти состоит из двух частей , которые соединяются с помощью специальной липучки работает от управляющего модуля , на котором есть регулируемый динамик и xxunk лампочки коврик для танца xxmaj xxunk xxmaj китти может воспроизвести четыре композиции игрушку можно подсоединить к xxunk , игровой приставке или компьютеру легко складывается , не занимает много места в комнате танцевальный</td>\n",
       "    </tr>\n",
       "    <tr>\n",
       "      <td>2</td>\n",
       "      <td>xxmaj доминикана , xxmaj индия , xxmaj кипр , xxmaj тунис , xxmaj греция , xxmaj испания , xxmaj крым , xxmaj сочи xxrep 93 | xxmaj при покупке скажите xxup avito и получите xxup скидку 📌 с 2006 xxup года в xxup туризме 📌 xxup только xxup проверенные xxup туроператоры 📌 xxup нет xxup скрытых xxup платежей и xxup сборов 📌 xxup без xxup праздников и xxup выходных 📌</td>\n",
       "    </tr>\n",
       "    <tr>\n",
       "      <td>3</td>\n",
       "      <td>стиральная машина фронтальная загрузка cтирка до 5 кг класс энергопотребления : a электронное управление xxunk см отжим при 1000 об / мин защита от протечек xxmaj доставка xxmaj также возможен обмен вашей xxunk стиральной машины -на нашу рабочую . xxrep 53 = xxmaj так же в продаже есть недорогие стиральные машины в хорошем состоянии , с xxunk гарантией . xxrep 54 = xxmaj проводим также , ремонт любой сложности ,</td>\n",
       "    </tr>\n",
       "    <tr>\n",
       "      <td>4</td>\n",
       "      <td>\\t нет xxmaj наличие xxunk . зам . пилки : \\t есть xxmaj регулировка наклона подошвы без инструмента : \\t нет xxmaj наличие лазера : \\t нет xxmaj наличие плавного пуска : \\t нет xxmaj поддержание постоянных оборотов под нагрузкой : \\t нет xxmaj возможность подключения к пылесосу : \\t нет xxmaj легкий доступ к щеткам : \\t нет xxmaj наличие защитного экрана : \\t есть xxmaj литая подошва :</td>\n",
       "    </tr>\n",
       "  </tbody>\n",
       "</table>"
      ],
      "text/plain": [
       "<IPython.core.display.HTML object>"
      ]
     },
     "metadata": {},
     "output_type": "display_data"
    }
   ],
   "source": [
    "# create batcher\n",
    "data_lm = TextLMDataBunch.from_csv(path=data_path, csv_name='ulmfit_lm.csv', valid_pct=0.1,\n",
    "                                  text_cols='text')\n",
    "data_lm.show_batch()"
   ]
  },
  {
   "cell_type": "code",
   "execution_count": 9,
   "metadata": {},
   "outputs": [],
   "source": [
    "data_lm.save(join(data_path, 'data_lm.pkl'))"
   ]
  },
  {
   "cell_type": "code",
   "execution_count": 5,
   "metadata": {},
   "outputs": [],
   "source": [
    "data_lm = load_data(data_path, 'data_lm.pkl')"
   ]
  },
  {
   "cell_type": "markdown",
   "metadata": {},
   "source": [
    "Weights of pretrained on Russian language ULMFiT were taken from https://github.com/mamamot/Russian-ULMFit"
   ]
  },
  {
   "cell_type": "code",
   "execution_count": 7,
   "metadata": {},
   "outputs": [],
   "source": [
    "# create learner\n",
    "pretrained_fnames = ('/home/egor/DL/rus_ulmfit_weights/lm_5_ep_lr2-3_5_stlr', \n",
    "                    '/home/egor/DL/rus_ulmfit_weights/itos')\n",
    "\n",
    "learn = language_model_learner(data_lm, AWD_LSTM, drop_mult=0.3, pretrained_fnames=pretrained_fnames)"
   ]
  },
  {
   "cell_type": "code",
   "execution_count": 36,
   "metadata": {},
   "outputs": [
    {
     "data": {
      "text/html": [],
      "text/plain": [
       "<IPython.core.display.HTML object>"
      ]
     },
     "metadata": {},
     "output_type": "display_data"
    },
    {
     "name": "stdout",
     "output_type": "stream",
     "text": [
      "LR Finder is complete, type {learner_name}.recorder.plot() to see the graph.\n"
     ]
    }
   ],
   "source": [
    "learn.lr_find()"
   ]
  },
  {
   "cell_type": "code",
   "execution_count": 37,
   "metadata": {},
   "outputs": [
    {
     "data": {
      "image/png": "[encoded data removed]",
      "text/plain": [
       "<Figure size 432x288 with 1 Axes>"
      ]
     },
     "metadata": {
      "needs_background": "light"
     },
     "output_type": "display_data"
    }
   ],
   "source": [
    "learn.recorder.plot(skip_end=15);"
   ]
  },
  {
   "cell_type": "code",
   "execution_count": 38,
   "metadata": {},
   "outputs": [
    {
     "data": {
      "text/html": [
       "<table border=\"1\" class=\"dataframe\">\n",
       "  <thead>\n",
       "    <tr style=\"text-align: left;\">\n",
       "      <th>epoch</th>\n",
       "      <th>train_loss</th>\n",
       "      <th>valid_loss</th>\n",
       "      <th>accuracy</th>\n",
       "      <th>time</th>\n",
       "    </tr>\n",
       "  </thead>\n",
       "  <tbody>\n",
       "    <tr>\n",
       "      <td>0</td>\n",
       "      <td>3.313212</td>\n",
       "      <td>3.157330</td>\n",
       "      <td>0.436854</td>\n",
       "      <td>53:28</td>\n",
       "    </tr>\n",
       "  </tbody>\n",
       "</table>"
      ],
      "text/plain": [
       "<IPython.core.display.HTML object>"
      ]
     },
     "metadata": {},
     "output_type": "display_data"
    }
   ],
   "source": [
    "# start fine-tuning\n",
    "learn.fit_one_cycle(1, 1e-2, moms=(0.8,0.7))"
   ]
  },
  {
   "cell_type": "code",
   "execution_count": 39,
   "metadata": {},
   "outputs": [],
   "source": [
    "learn.unfreeze()"
   ]
  },
  {
   "cell_type": "code",
   "execution_count": 40,
   "metadata": {},
   "outputs": [
    {
     "data": {
      "text/html": [
       "<table border=\"1\" class=\"dataframe\">\n",
       "  <thead>\n",
       "    <tr style=\"text-align: left;\">\n",
       "      <th>epoch</th>\n",
       "      <th>train_loss</th>\n",
       "      <th>valid_loss</th>\n",
       "      <th>accuracy</th>\n",
       "      <th>time</th>\n",
       "    </tr>\n",
       "  </thead>\n",
       "  <tbody>\n",
       "    <tr>\n",
       "      <td>0</td>\n",
       "      <td>2.841331</td>\n",
       "      <td>2.793773</td>\n",
       "      <td>0.489776</td>\n",
       "      <td>59:24</td>\n",
       "    </tr>\n",
       "    <tr>\n",
       "      <td>1</td>\n",
       "      <td>2.703325</td>\n",
       "      <td>2.638601</td>\n",
       "      <td>0.513735</td>\n",
       "      <td>58:53</td>\n",
       "    </tr>\n",
       "    <tr>\n",
       "      <td>2</td>\n",
       "      <td>2.603848</td>\n",
       "      <td>2.588508</td>\n",
       "      <td>0.521897</td>\n",
       "      <td>58:52</td>\n",
       "    </tr>\n",
       "  </tbody>\n",
       "</table>"
      ],
      "text/plain": [
       "<IPython.core.display.HTML object>"
      ]
     },
     "metadata": {},
     "output_type": "display_data"
    }
   ],
   "source": [
    "learn.fit_one_cycle(3, 1e-3, moms=(0.8,0.7))"
   ]
  },
  {
   "cell_type": "code",
   "execution_count": 42,
   "metadata": {},
   "outputs": [],
   "source": [
    "learn.save(join(models_path, 'fine_tuned'))"
   ]
  },
  {
   "cell_type": "code",
   "execution_count": 11,
   "metadata": {},
   "outputs": [],
   "source": [
    "learn.load(join(models_path, 'fine_tuned'));"
   ]
  },
  {
   "cell_type": "code",
   "execution_count": 14,
   "metadata": {},
   "outputs": [
    {
     "name": "stdout",
     "output_type": "stream",
     "text": [
      "xxtitle Кофе-машина из Авито xxdescr Мы производства baby от лампы . На акция год 19 0 . Мебели и мебели лежит из диски 12000 тем . Поможет удобные карусель 1946 и линзы карту из Кож . Мы склад\n",
      "\n",
      "xxtitle Кофе-машина из Авито Эллиптический - Днс xxdescr Хром от времени - наличными книгу Во способен . Мы книгу Вам испания Вам лето . Тип : Ручек - Ручек Ручек Тип\n"
     ]
    }
   ],
   "source": [
    "# generate some text\n",
    "TEXT = 'xxtitle Кофе-машина из Авито'\n",
    "N_WORDS = 40\n",
    "N_SENTENCES = 2\n",
    "print(\"\\n\\n\".join(learn.predict(TEXT, N_WORDS, temperature=0.75) for _ in range(N_SENTENCES)))"
   ]
  },
  {
   "cell_type": "code",
   "execution_count": 15,
   "metadata": {},
   "outputs": [],
   "source": [
    "learn.save_encoder(join(models_path, 'fine_tuned_enc'))"
   ]
  },
  {
   "cell_type": "markdown",
   "metadata": {},
   "source": [
    "# ULMFiT classifier training"
   ]
  },
  {
   "cell_type": "code",
   "execution_count": 6,
   "metadata": {
    "collapsed": true
   },
   "outputs": [
    {
     "ename": "NameError",
     "evalue": "name 'train_path' is not defined",
     "output_type": "error",
     "traceback": [
      "\u001b[0;31m---------------------------------------------------------------------------\u001b[0m",
      "\u001b[0;31mNameError\u001b[0m                                 Traceback (most recent call last)",
      "\u001b[0;32m<ipython-input-6-7f37a42d07b2>\u001b[0m in \u001b[0;36m<module>\u001b[0;34m\u001b[0m\n\u001b[1;32m      1\u001b[0m \u001b[0;31m# create batcher\u001b[0m\u001b[0;34m\u001b[0m\u001b[0;34m\u001b[0m\u001b[0;34m\u001b[0m\u001b[0m\n\u001b[0;32m----> 2\u001b[0;31m data_clas = TextClasDataBunch.from_csv(path=data_path, csv_name=train_path, valid_pct=0.15, \n\u001b[0m\u001b[1;32m      3\u001b[0m                                        \u001b[0mtest\u001b[0m\u001b[0;34m=\u001b[0m\u001b[0mtest_path\u001b[0m\u001b[0;34m,\u001b[0m \u001b[0mvocab\u001b[0m\u001b[0;34m=\u001b[0m\u001b[0mdata_lm\u001b[0m\u001b[0;34m.\u001b[0m\u001b[0mtrain_ds\u001b[0m\u001b[0;34m.\u001b[0m\u001b[0mvocab\u001b[0m\u001b[0;34m,\u001b[0m\u001b[0;34m\u001b[0m\u001b[0;34m\u001b[0m\u001b[0m\n\u001b[1;32m      4\u001b[0m                                         bs=64, text_cols='text', label_cols='category_id')\n\u001b[1;32m      5\u001b[0m \u001b[0mdata_clas\u001b[0m\u001b[0;34m.\u001b[0m\u001b[0msave\u001b[0m\u001b[0;34m(\u001b[0m\u001b[0mjoin\u001b[0m\u001b[0;34m(\u001b[0m\u001b[0mdata_path\u001b[0m\u001b[0;34m,\u001b[0m \u001b[0;34m'data_clas.pkl'\u001b[0m\u001b[0;34m)\u001b[0m\u001b[0;34m)\u001b[0m\u001b[0;34m\u001b[0m\u001b[0;34m\u001b[0m\u001b[0m\n",
      "\u001b[0;31mNameError\u001b[0m: name 'train_path' is not defined"
     ]
    }
   ],
   "source": [
    "# create batcher\n",
    "train_name, test_name = 'train.csv', 'test.csv'\n",
    "data_clas = TextClasDataBunch.from_csv(path=data_path, csv_name=train_path, valid_pct=0.15, \n",
    "                                       test=test_path, vocab=data_lm.train_ds.vocab, \n",
    "                                        bs=64, text_cols='text', label_cols='category_id')\n",
    "data_clas.save(join(data_path, 'data_clas.pkl'))"
   ]
  },
  {
   "cell_type": "code",
   "execution_count": 6,
   "metadata": {},
   "outputs": [
    {
     "data": {
      "text/html": [
       "<table border=\"1\" class=\"dataframe\">\n",
       "  <thead>\n",
       "    <tr style=\"text-align: right;\">\n",
       "      <th>text</th>\n",
       "      <th>target</th>\n",
       "    </tr>\n",
       "  </thead>\n",
       "  <tbody>\n",
       "    <tr>\n",
       "      <td>xxbos xxtitle xxmaj манжета люка для стиральной машины xxunk xxdescr б / у манжета люка ( уплотнитель двери ) xxunk - 02 устанавливают в следующие марки стиральных машин xxmaj indesit ( xxmaj индезит ) , xxmaj ariston ( xxmaj аристон ) , xxmaj xxunk ( xxmaj xxunk ) xxmaj состояние хорошие . xxmaj манжета ( резина ) люка для стиральной машины xxmaj indesit , xxmaj ariston xxunk - 02 xxmaj</td>\n",
       "      <td>26</td>\n",
       "    </tr>\n",
       "    <tr>\n",
       "      <td>xxbos xxtitle xxmaj роутер ( xxmaj маршрутизатор ) zyxel xxup p-330w xxup ee xxdescr xxmaj интернет - центр zyxel xxup p-330w предназначен для безопасного подключения к xxmaj интернету по выделенной линии xxmaj ethernet через xxunk сети . с его помощью все домашние компьютеры и сетевые устройства могут совместно использовать высокоскоростной выделенный канал . xxmaj основные преимущества : * xxmaj рекомендован ведущими интернет - провайдерами * xxmaj постоянное подключение к xxmaj</td>\n",
       "      <td>14</td>\n",
       "    </tr>\n",
       "    <tr>\n",
       "      <td>xxbos xxtitle \" xxmaj вероятность равна нулю \" - xxunk повести xxdescr \" xxmaj вероятность равна нулю \" - xxunk xxunk . xxunk не будет \" - фантастические повести и xxunk 1991 г . xxmaj ещё книги по 55р : \" в стране xxmaj xxunk \" - xxmaj слово о xxmaj дании - 1990 г . xxmaj давид xxmaj xxunk \" xxmaj до свидания , друг вечный \" , \"</td>\n",
       "      <td>43</td>\n",
       "    </tr>\n",
       "    <tr>\n",
       "      <td>xxbos xxtitle xxmaj fujitsu lifebook xxup xxunk ( обмен ) xxdescr xxmaj самый миниатюрный , но в то же время полноценный ноутбук с xxup os xxmaj windows xxup xp , xxmaj fujitsu lifebook xxunk японец ! xxmaj описание xxmaj fujitsu lifebook xxup xxunk : xxmaj модель \\t lifebook xxup xxunk xxmaj производитель \\t xxmaj fujitsu xxmaj основные характеристики xxmaj fujitsu lifebook xxup xxunk : xxmaj процессор \\t xxup xxunk 800</td>\n",
       "      <td>1</td>\n",
       "    </tr>\n",
       "    <tr>\n",
       "      <td>xxbos xxtitle xxmaj шезлонг с дугой , игрушками и вибро , xxunk под xxdescr xxmaj продаю шезлонг , нас выручал очень , даже муж , который xxunk относится к моим детским xxunk разных xxunk , оценил во время пользования ) xxmaj шезлонг в отличном состоянии , все в рабочем состоянии , без пятен и тд . xxmaj важные xxmaj плюсы на мой взгляд : xxunk ( специально с ним xxunk</td>\n",
       "      <td>34</td>\n",
       "    </tr>\n",
       "  </tbody>\n",
       "</table>"
      ],
      "text/plain": [
       "<IPython.core.display.HTML object>"
      ]
     },
     "metadata": {},
     "output_type": "display_data"
    }
   ],
   "source": [
    "data_clas = load_data(data_path, 'data_clas.pkl')\n",
    "# reduced bs to fit data on my GPU\n",
    "data_clas.batch_size = 32\n",
    "data_clas.show_batch()"
   ]
  },
  {
   "cell_type": "markdown",
   "metadata": {},
   "source": [
    "Start training gradually unfreezing layers one per step to prevent catastrophic forgetting the global knowledge of Russian language (here plus global knowledge about Avito advertisments)."
   ]
  },
  {
   "cell_type": "code",
   "execution_count": 7,
   "metadata": {},
   "outputs": [],
   "source": [
    "learn = text_classifier_learner(data_clas, AWD_LSTM, drop_mult=0.5)\n",
    "learn.load_encoder(join(models_path, 'fine_tuned_enc'))"
   ]
  },
  {
   "cell_type": "code",
   "execution_count": 9,
   "metadata": {},
   "outputs": [
    {
     "data": {
      "text/html": [],
      "text/plain": [
       "<IPython.core.display.HTML object>"
      ]
     },
     "metadata": {},
     "output_type": "display_data"
    },
    {
     "name": "stdout",
     "output_type": "stream",
     "text": [
      "LR Finder is complete, type {learner_name}.recorder.plot() to see the graph.\n"
     ]
    },
    {
     "data": {
      "image/png": "[encoded data removed]",
      "text/plain": [
       "<Figure size 432x288 with 1 Axes>"
      ]
     },
     "metadata": {
      "needs_background": "light"
     },
     "output_type": "display_data"
    }
   ],
   "source": [
    "learn.lr_find()\n",
    "learn.recorder.plot()"
   ]
  },
  {
   "cell_type": "code",
   "execution_count": 11,
   "metadata": {},
   "outputs": [
    {
     "data": {
      "text/html": [
       "<table border=\"1\" class=\"dataframe\">\n",
       "  <thead>\n",
       "    <tr style=\"text-align: left;\">\n",
       "      <th>epoch</th>\n",
       "      <th>train_loss</th>\n",
       "      <th>valid_loss</th>\n",
       "      <th>accuracy</th>\n",
       "      <th>time</th>\n",
       "    </tr>\n",
       "  </thead>\n",
       "  <tbody>\n",
       "    <tr>\n",
       "      <td>0</td>\n",
       "      <td>2.246747</td>\n",
       "      <td>1.726099</td>\n",
       "      <td>0.570423</td>\n",
       "      <td>08:01</td>\n",
       "    </tr>\n",
       "  </tbody>\n",
       "</table>"
      ],
      "text/plain": [
       "<IPython.core.display.HTML object>"
      ]
     },
     "metadata": {},
     "output_type": "display_data"
    }
   ],
   "source": [
    "learn.fit_one_cycle(1, 2e-2, moms=(0.8,0.7))"
   ]
  },
  {
   "cell_type": "code",
   "execution_count": 12,
   "metadata": {},
   "outputs": [],
   "source": [
    "learn.save(join(data_path, 'first'))"
   ]
  },
  {
   "cell_type": "code",
   "execution_count": 8,
   "metadata": {},
   "outputs": [
    {
     "data": {
      "text/html": [
       "<table border=\"1\" class=\"dataframe\">\n",
       "  <thead>\n",
       "    <tr style=\"text-align: left;\">\n",
       "      <th>epoch</th>\n",
       "      <th>train_loss</th>\n",
       "      <th>valid_loss</th>\n",
       "      <th>accuracy</th>\n",
       "      <th>time</th>\n",
       "    </tr>\n",
       "  </thead>\n",
       "  <tbody>\n",
       "    <tr>\n",
       "      <td>0</td>\n",
       "      <td>1.018458</td>\n",
       "      <td>0.750000</td>\n",
       "      <td>0.800880</td>\n",
       "      <td>10:17</td>\n",
       "    </tr>\n",
       "  </tbody>\n",
       "</table>"
      ],
      "text/plain": [
       "<IPython.core.display.HTML object>"
      ]
     },
     "metadata": {},
     "output_type": "display_data"
    }
   ],
   "source": [
    "learn.freeze_to(-2)\n",
    "learn.fit_one_cycle(1, slice(1e-2/(2.6**4),1e-2), moms=(0.8,0.7))"
   ]
  },
  {
   "cell_type": "code",
   "execution_count": 9,
   "metadata": {},
   "outputs": [],
   "source": [
    "learn.save(join(data_path, 'second'))"
   ]
  },
  {
   "cell_type": "code",
   "execution_count": 8,
   "metadata": {},
   "outputs": [],
   "source": [
    "learn.load(join(data_path, 'second'));"
   ]
  },
  {
   "cell_type": "code",
   "execution_count": 9,
   "metadata": {},
   "outputs": [
    {
     "data": {
      "text/html": [
       "<table border=\"1\" class=\"dataframe\">\n",
       "  <thead>\n",
       "    <tr style=\"text-align: left;\">\n",
       "      <th>epoch</th>\n",
       "      <th>train_loss</th>\n",
       "      <th>valid_loss</th>\n",
       "      <th>accuracy</th>\n",
       "      <th>time</th>\n",
       "    </tr>\n",
       "  </thead>\n",
       "  <tbody>\n",
       "    <tr>\n",
       "      <td>0</td>\n",
       "      <td>0.712611</td>\n",
       "      <td>0.560384</td>\n",
       "      <td>0.845563</td>\n",
       "      <td>21:48</td>\n",
       "    </tr>\n",
       "  </tbody>\n",
       "</table>"
      ],
      "text/plain": [
       "<IPython.core.display.HTML object>"
      ]
     },
     "metadata": {},
     "output_type": "display_data"
    }
   ],
   "source": [
    "learn.freeze_to(-3)\n",
    "learn.fit_one_cycle(1, slice(5e-3/(2.6**4),5e-3), moms=(0.8,0.7))"
   ]
  },
  {
   "cell_type": "code",
   "execution_count": 10,
   "metadata": {},
   "outputs": [],
   "source": [
    "learn.save(join(data_path, 'third'))"
   ]
  },
  {
   "cell_type": "code",
   "execution_count": 7,
   "metadata": {},
   "outputs": [],
   "source": [
    "learn.load(join(data_path, 'third'));"
   ]
  },
  {
   "cell_type": "code",
   "execution_count": 8,
   "metadata": {},
   "outputs": [
    {
     "data": {
      "text/html": [
       "<table border=\"1\" class=\"dataframe\">\n",
       "  <thead>\n",
       "    <tr style=\"text-align: left;\">\n",
       "      <th>epoch</th>\n",
       "      <th>train_loss</th>\n",
       "      <th>valid_loss</th>\n",
       "      <th>accuracy</th>\n",
       "      <th>time</th>\n",
       "    </tr>\n",
       "  </thead>\n",
       "  <tbody>\n",
       "    <tr>\n",
       "      <td>0</td>\n",
       "      <td>0.671696</td>\n",
       "      <td>0.538807</td>\n",
       "      <td>0.849540</td>\n",
       "      <td>31:45</td>\n",
       "    </tr>\n",
       "    <tr>\n",
       "      <td>1</td>\n",
       "      <td>0.600233</td>\n",
       "      <td>0.507717</td>\n",
       "      <td>0.859481</td>\n",
       "      <td>31:02</td>\n",
       "    </tr>\n",
       "    <tr>\n",
       "      <td>2</td>\n",
       "      <td>0.538444</td>\n",
       "      <td>0.472282</td>\n",
       "      <td>0.868197</td>\n",
       "      <td>31:44</td>\n",
       "    </tr>\n",
       "    <tr>\n",
       "      <td>3</td>\n",
       "      <td>0.560615</td>\n",
       "      <td>0.451094</td>\n",
       "      <td>0.871806</td>\n",
       "      <td>32:01</td>\n",
       "    </tr>\n",
       "    <tr>\n",
       "      <td>4</td>\n",
       "      <td>0.450817</td>\n",
       "      <td>0.452639</td>\n",
       "      <td>0.874898</td>\n",
       "      <td>30:31</td>\n",
       "    </tr>\n",
       "    <tr>\n",
       "      <td>5</td>\n",
       "      <td>0.438490</td>\n",
       "      <td>0.452861</td>\n",
       "      <td>0.876396</td>\n",
       "      <td>31:32</td>\n",
       "    </tr>\n",
       "  </tbody>\n",
       "</table>"
      ],
      "text/plain": [
       "<IPython.core.display.HTML object>"
      ]
     },
     "metadata": {},
     "output_type": "display_data"
    },
    {
     "name": "stdout",
     "output_type": "stream",
     "text": [
      "Better model found at epoch 0 with val_loss value: 0.5388070940971375.\n",
      "Better model found at epoch 1 with val_loss value: 0.5077168345451355.\n",
      "Better model found at epoch 2 with val_loss value: 0.47228237986564636.\n",
      "Better model found at epoch 3 with val_loss value: 0.45109379291534424.\n"
     ]
    }
   ],
   "source": [
    "learn.unfreeze()\n",
    "learn.fit_one_cycle(6, slice(1e-3/(2.6**4),1e-3), moms=(0.8,0.7), callbacks=[SaveModelCallback(learn, name=join(models_path, 'fine_tuned_best'))])"
   ]
  },
  {
   "cell_type": "code",
   "execution_count": 18,
   "metadata": {},
   "outputs": [],
   "source": [
    "learn.load(join(models_path, 'fine_tuned_best'));"
   ]
  },
  {
   "cell_type": "code",
   "execution_count": 8,
   "metadata": {},
   "outputs": [],
   "source": [
    "learn.load(join(models_path, 'fine_tuned_best'));"
   ]
  },
  {
   "cell_type": "code",
   "execution_count": 9,
   "metadata": {
    "scrolled": false
   },
   "outputs": [
    {
     "data": {
      "text/html": [
       "<table border=\"1\" class=\"dataframe\">\n",
       "  <thead>\n",
       "    <tr style=\"text-align: left;\">\n",
       "      <th>epoch</th>\n",
       "      <th>train_loss</th>\n",
       "      <th>valid_loss</th>\n",
       "      <th>accuracy</th>\n",
       "      <th>time</th>\n",
       "    </tr>\n",
       "  </thead>\n",
       "  <tbody>\n",
       "    <tr>\n",
       "      <td>0</td>\n",
       "      <td>0.488952</td>\n",
       "      <td>0.454865</td>\n",
       "      <td>0.874367</td>\n",
       "      <td>28:31</td>\n",
       "    </tr>\n",
       "    <tr>\n",
       "      <td>1</td>\n",
       "      <td>0.460834</td>\n",
       "      <td>0.458494</td>\n",
       "      <td>0.875129</td>\n",
       "      <td>28:33</td>\n",
       "    </tr>\n",
       "    <tr>\n",
       "      <td>2</td>\n",
       "      <td>0.497688</td>\n",
       "      <td>0.438901</td>\n",
       "      <td>0.877526</td>\n",
       "      <td>27:29</td>\n",
       "    </tr>\n",
       "    <tr>\n",
       "      <td>3</td>\n",
       "      <td>0.452463</td>\n",
       "      <td>0.432769</td>\n",
       "      <td>0.878493</td>\n",
       "      <td>28:24</td>\n",
       "    </tr>\n",
       "    <tr>\n",
       "      <td>4</td>\n",
       "      <td>0.406739</td>\n",
       "      <td>0.421498</td>\n",
       "      <td>0.880917</td>\n",
       "      <td>30:59</td>\n",
       "    </tr>\n",
       "    <tr>\n",
       "      <td>5</td>\n",
       "      <td>0.383145</td>\n",
       "      <td>0.425543</td>\n",
       "      <td>0.883178</td>\n",
       "      <td>30:40</td>\n",
       "    </tr>\n",
       "    <tr>\n",
       "      <td>6</td>\n",
       "      <td>0.350866</td>\n",
       "      <td>0.423580</td>\n",
       "      <td>0.883641</td>\n",
       "      <td>31:25</td>\n",
       "    </tr>\n",
       "    <tr>\n",
       "      <td>7</td>\n",
       "      <td>0.347736</td>\n",
       "      <td>0.424277</td>\n",
       "      <td>0.884077</td>\n",
       "      <td>27:05</td>\n",
       "    </tr>\n",
       "  </tbody>\n",
       "</table>"
      ],
      "text/plain": [
       "<IPython.core.display.HTML object>"
      ]
     },
     "metadata": {},
     "output_type": "display_data"
    },
    {
     "name": "stdout",
     "output_type": "stream",
     "text": [
      "Better model found at epoch 0 with val_loss value: 0.45486512780189514.\n",
      "Better model found at epoch 2 with val_loss value: 0.4389010965824127.\n",
      "Better model found at epoch 3 with val_loss value: 0.43276897072792053.\n",
      "Better model found at epoch 4 with val_loss value: 0.4214983582496643.\n"
     ]
    }
   ],
   "source": [
    "learn.unfreeze()\n",
    "learn.fit_one_cycle(8, slice(1e-3/(2.6**4),1e-3), moms=(0.8,0.7), callbacks=[SaveModelCallback(learn, name=join(models_path, 'fine_tuned_best_1'))])"
   ]
  },
  {
   "cell_type": "code",
   "execution_count": 22,
   "metadata": {},
   "outputs": [],
   "source": [
    "learn.save(join(models_path, 'fine_tuned_best_1'))"
   ]
  },
  {
   "cell_type": "markdown",
   "metadata": {},
   "source": [
    "### Calculate accuracies on validation data"
   ]
  },
  {
   "cell_type": "code",
   "execution_count": 23,
   "metadata": {},
   "outputs": [],
   "source": [
    "val_preds, val_labels = learn.get_preds(DatasetType.Valid, ordered=True)\n",
    "val_preds = val_preds.argmax(dim=1).data.cpu().numpy()\n",
    "val_labels = val_labels.data.cpu().numpy()"
   ]
  },
  {
   "cell_type": "code",
   "execution_count": 24,
   "metadata": {},
   "outputs": [
    {
     "data": {
      "text/plain": [
       "0.880917361224601"
      ]
     },
     "execution_count": 24,
     "metadata": {},
     "output_type": "execute_result"
    }
   ],
   "source": [
    "# final validation accuracy\n",
    "get_accuracy(val_preds, val_labels)"
   ]
  },
  {
   "cell_type": "code",
   "execution_count": 25,
   "metadata": {},
   "outputs": [
    {
     "data": {
      "text/plain": [
       "{'Бытовая_электроника': 0.940764783446597,\n",
       " 'Для дома и дачи': 0.8599819331526649,\n",
       " 'Личные вещи': 0.8625627673423842,\n",
       " 'Хобби и отдых': 0.8541037108666747}"
      ]
     },
     "execution_count": 25,
     "metadata": {},
     "output_type": "execute_result"
    }
   ],
   "source": [
    "# final validation accuracy per category\n",
    "get_hierarchy_accuracy(val_preds, val_labels, hierarchy_dict)"
   ]
  },
  {
   "cell_type": "markdown",
   "metadata": {},
   "source": [
    "### Predict on test data"
   ]
  },
  {
   "cell_type": "code",
   "execution_count": 26,
   "metadata": {},
   "outputs": [],
   "source": [
    "test_preds, _ = learn.get_preds(DatasetType.Test, ordered=True)"
   ]
  },
  {
   "cell_type": "code",
   "execution_count": 27,
   "metadata": {},
   "outputs": [],
   "source": [
    "test_preds = test_preds.argmax(dim=1).data.cpu().numpy()"
   ]
  },
  {
   "cell_type": "code",
   "execution_count": 28,
   "metadata": {
    "scrolled": true
   },
   "outputs": [
    {
     "data": {
      "text/html": [
       "<div>\n",
       "<style scoped>\n",
       "    .dataframe tbody tr th:only-of-type {\n",
       "        vertical-align: middle;\n",
       "    }\n",
       "\n",
       "    .dataframe tbody tr th {\n",
       "        vertical-align: top;\n",
       "    }\n",
       "\n",
       "    .dataframe thead th {\n",
       "        text-align: right;\n",
       "    }\n",
       "</style>\n",
       "<table border=\"1\" class=\"dataframe\">\n",
       "  <thead>\n",
       "    <tr style=\"text-align: right;\">\n",
       "      <th></th>\n",
       "      <th>item_id</th>\n",
       "      <th>category_id</th>\n",
       "    </tr>\n",
       "  </thead>\n",
       "  <tbody>\n",
       "    <tr>\n",
       "      <th>0</th>\n",
       "      <td>489517</td>\n",
       "      <td>22</td>\n",
       "    </tr>\n",
       "    <tr>\n",
       "      <th>1</th>\n",
       "      <td>489518</td>\n",
       "      <td>0</td>\n",
       "    </tr>\n",
       "    <tr>\n",
       "      <th>2</th>\n",
       "      <td>489519</td>\n",
       "      <td>15</td>\n",
       "    </tr>\n",
       "    <tr>\n",
       "      <th>3</th>\n",
       "      <td>489520</td>\n",
       "      <td>33</td>\n",
       "    </tr>\n",
       "    <tr>\n",
       "      <th>4</th>\n",
       "      <td>489521</td>\n",
       "      <td>13</td>\n",
       "    </tr>\n",
       "  </tbody>\n",
       "</table>\n",
       "</div>"
      ],
      "text/plain": [
       "   item_id  category_id\n",
       "0   489517           22\n",
       "1   489518            0\n",
       "2   489519           15\n",
       "3   489520           33\n",
       "4   489521           13"
      ]
     },
     "execution_count": 28,
     "metadata": {},
     "output_type": "execute_result"
    }
   ],
   "source": [
    "# create df with test predictions and save it\n",
    "submission_dict = {\n",
    "    'item_id': test_df['item_id'].to_list(),\n",
    "    'category_id': test_preds\n",
    "}\n",
    "\n",
    "submission_df = pd.DataFrame(submission_dict)\n",
    "submission_df.to_csv(join(result_path, 'ulmfit_test_prediction.csv'), index=False)\n",
    "submission_df.head()"
   ]
  }
 ],
 "metadata": {
  "kernelspec": {
   "display_name": "Python 3",
   "language": "python",
   "name": "python3"
  },
  "language_info": {
   "codemirror_mode": {
    "name": "ipython",
    "version": 3
   },
   "file_extension": ".py",
   "mimetype": "text/x-python",
   "name": "python",
   "nbconvert_exporter": "python",
   "pygments_lexer": "ipython3",
   "version": "3.6.7"
  }
 },
 "nbformat": 4,
 "nbformat_minor": 2
}
